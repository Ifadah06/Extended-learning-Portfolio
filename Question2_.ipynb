{
  "nbformat": 4,
  "nbformat_minor": 0,
  "metadata": {
    "colab": {
      "provenance": [],
      "authorship_tag": "ABX9TyOupvrCxX8EBIkV7xL+P2X9",
      "include_colab_link": true
    },
    "kernelspec": {
      "name": "python3",
      "display_name": "Python 3"
    },
    "language_info": {
      "name": "python"
    }
  },
  "cells": [
    {
      "cell_type": "markdown",
      "metadata": {
        "id": "view-in-github",
        "colab_type": "text"
      },
      "source": [
        "<a href=\"https://colab.research.google.com/github/Ifadah06/Extended-learning-Portfolio/blob/main/Question2_.ipynb\" target=\"_parent\"><img src=\"https://colab.research.google.com/assets/colab-badge.svg\" alt=\"Open In Colab\"/></a>"
      ]
    },
    {
      "cell_type": "markdown",
      "source": [
        "**QUESTION 2 :**\n",
        "As a new junior developer at EcommEasy, an e-commerce platform company, you're assigned to debug and refactor a piece of code left by one of the departed team members. This code is meant to determine if a customer is eligible for a certain promotional discount based on their total order value.\n",
        "Unfortunately, the code is obfuscated, lacks documentation, and doesn't function as expected. Your task is to identify the error, correct it, and refactor the code according to the best industry practices, which include clear variable naming, detailed comments, error handling, and overall code readability.\n",
        "\n",
        "Here is the problematic code:\n",
        "def promo(o):\n",
        "    p = None\n",
        "    if o > 50 and o < 100:\n",
        "        p = 5\n",
        "    elif o > 100:\n",
        "        p = 10\n",
        "    else:\n",
        "        p = 0\n",
        "    if o <= 0 or o is None:\n",
        "        raise ValueError(\"Order value not valid!\")\n",
        "    return o*(p/100)\n",
        "\n",
        "Question subparts:\n",
        "What is the error in the above code and why does it fail to calculate the promotional discount correctly?\n",
        "\n",
        "How would you correct the error?\n",
        "\n",
        "How would you refactor this code to align it with industry best practices? \n",
        "\n",
        "Write the refactored code within this or another notebook. Please include appropriate variable names, comments, error handling, and a basic explanation of the code for a layperson.\n",
        "\n",
        "Write a few test cases to confirm the code is functioning as expected.\n",
        "\n",
        "Hint: The promo function is supposed to apply a 5% discount if the order total is between $50 and $100 (inclusive), and a 10% discount if the order total exceeds $100. Orders less than or equal to $0 or null should raise an exception.\n",
        "[20 Marks]"
      ],
      "metadata": {
        "id": "5BJSVb2GBcbL"
      }
    },
    {
      "cell_type": "markdown",
      "source": [
        "Q(a)\n",
        "1.The first issue is that before checking the discount amount,the conditions have been met or if there is any condition required to be applied.\n",
        "\n",
        "2.Secondly,in this case we can see that the condition of the values is \"if o > 50 and o 100\".However, it could go wrong due to the wrong parameters the value 50 and 100 have been excluded from the code.Hence displaying the wrong output.\n",
        "\n",
        "3.Another problem is that to calculate the  discounted price, the wrong formula included in the code has wrongly been input as \"o*(p/100)\".\n",
        "\n",
        "4.Moreover,the variable used such as variable p could be declared more clearly.It has not been explained in proper details which is more difficult to understand.\n",
        "\n",
        "Q(b)\n",
        "First of all, conditions should have been checked whether they have been met or not before checking the discount amount.In this case, if the values input are equal to 0 or they have null values,a conditional exception should have been raised before calculating the discount amounts.\n",
        "Also, instead of the condition \"if o > 50 and o 100\" the condition should have been included as \"if 50 = o = 100\".This new condition will include the value 50 and 100 which will result to the proper output of this code.\n",
        "In addition,to figure out the correct discounted price , the formula should have been  o*(1-p/100) instead of the correct one.More practically speaking,If there is a 5% trade, the customer still has to pay 95% of the original price.\n",
        "Lastly,the name of the \"variable p\" should have been clearer ans easier.the use of  detailed names for variables would make code easier to understand.\n",
        "\n",
        "According to Screen Shot 2023-06-12 at 14.20\n",
        "\n"
      ],
      "metadata": {
        "id": "hyF1rkToBka5"
      }
    },
    {
      "cell_type": "code",
      "source": [
        "def calculate_discounted_price(order_value):\n",
        "   # Check if the order value is valid\n",
        "    if order_value is None or order_value <= 0:\n",
        "        raise ValueError(\"Order value is not valid!\")\n",
        "    \n",
        "    discount_percentage = 0\n",
        "   # Determine the discount percentage based on the order value\n",
        "    if 50 <= order_value <= 100:\n",
        "        discount_percentage = 5\n",
        "    elif order_value > 100:\n",
        "        discount_percentage = 10\n",
        "     # Calculating the discounted price\n",
        "    discounted_price = order_value * (1 - discount_percentage / 100)\n",
        "    return discounted_price\n"
      ],
      "metadata": {
        "id": "5cEb3h1mH6Sd"
      },
      "execution_count": null,
      "outputs": []
    },
    {
      "cell_type": "markdown",
      "source": [
        "ref:\n",
        "According to \n",
        "Screen Shot 2023-06-12 at 14.20 (chat gpt)"
      ],
      "metadata": {
        "id": "sMoDdteywva8"
      }
    },
    {
      "cell_type": "code",
      "source": [
        "# Test 1: Order value is  within the range (50 - 100) and should get a 5% discount\n",
        "print(calculate_discounted_price(75))  # Output: 71.25\n",
        "\n",
        "# Test 2: Order value above 100,  a 10% discount is obtained\n",
        "print(calculate_discounted_price(120))  # Output: 108.0\n",
        "\n",
        "# Test 3: Order value below 0,  a ValueError has been raised\n",
        "try:\n",
        "    calculate_discounted_price(-10)\n",
        "except ValueError as e:\n",
        "    print(e)  # Output: Order value is invalid!\n",
        "\n",
        "# Test 4: Order value is None, should raise a ValueError\n",
        "try:\n",
        "    calculate_discounted_price(None)\n",
        "except ValueError as e:\n",
        "    print(e)  # Output: Order value is invalid\n",
        "\n",
        "\n",
        "\n",
        "\n",
        "\n",
        "\n"
      ],
      "metadata": {
        "colab": {
          "base_uri": "https://localhost:8080/"
        },
        "id": "vy4YNI9sIKm_",
        "outputId": "f0c0bafa-2535-4c0c-c8e8-fed7466a3718"
      },
      "execution_count": null,
      "outputs": [
        {
          "output_type": "stream",
          "name": "stdout",
          "text": [
            "71.25\n",
            "108.0\n",
            "Order value is not valid!\n",
            "Order value is not valid!\n"
          ]
        }
      ]
    },
    {
      "cell_type": "markdown",
      "source": [
        "ref:\n",
        "According to Screen Shot 2023-06-12 at 14.20 (chat gpt)"
      ],
      "metadata": {
        "id": "peNlzaKrwPOz"
      }
    }
  ]
}