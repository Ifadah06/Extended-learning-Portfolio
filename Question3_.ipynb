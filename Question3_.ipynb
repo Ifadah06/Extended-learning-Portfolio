{
  "nbformat": 4,
  "nbformat_minor": 0,
  "metadata": {
    "colab": {
      "provenance": [],
      "authorship_tag": "ABX9TyOUTvzFutrr+zKW8F6B8JQ9",
      "include_colab_link": true
    },
    "kernelspec": {
      "name": "python3",
      "display_name": "Python 3"
    },
    "language_info": {
      "name": "python"
    }
  },
  "cells": [
    {
      "cell_type": "markdown",
      "metadata": {
        "id": "view-in-github",
        "colab_type": "text"
      },
      "source": [
        "<a href=\"https://colab.research.google.com/github/Ifadah06/Extended-learning-Portfolio/blob/main/Question3_.ipynb\" target=\"_parent\"><img src=\"https://colab.research.google.com/assets/colab-badge.svg\" alt=\"Open In Colab\"/></a>"
      ]
    },
    {
      "cell_type": "code",
      "execution_count": null,
      "metadata": {
        "id": "SjOtEGduYSgH"
      },
      "outputs": [],
      "source": [
        "import newspaper\n",
        "from newspaper import Article\n",
        "\n",
        "def extract_article_info(url):\n",
        "    try:\n",
        "        # Create an Article object and download the Article's content\n",
        "        article = Article(url)\n",
        "        article.download()\n",
        "        \n",
        "        # Analyse the downloaded content to extract the Article's title and text\n",
        "        article.parse()\n",
        "        \n",
        "        # Create a dictionary to store the article information\n",
        "        article_info = {\n",
        "            'url': url,\n",
        "            'title': article.title,\n",
        "            'text': article.text\n",
        "        }\n",
        "        \n",
        "        return article_info\n",
        "    except Exception as e:\n",
        "        # Print an error message if an extraction error occurs.\n",
        "        # then revert None that would suggest an extraction failure.\n",
        "        print(f\"Error extracting article from URL: {url}\")\n",
        "        print(e)\n",
        "        return None\n",
        "\n",
        "def extract_articles(urls):\n",
        "    articles = []\n",
        "    \n",
        "    for url in urls:\n",
        "        # For each URL, use the extract_article_info function.\n",
        "        # and append the article information to the articles list\n",
        "        article_info = extract_article_info(url)\n",
        "        \n",
        "        if article_info:\n",
        "            articles.append(article_info)\n",
        "    \n",
        "    return articles\n",
        "\n",
        "# Example usage:\n",
        "urls = [\n",
        "    'https://www.example.com/article1',\n",
        "    'https://www.example.com/article2',\n",
        "    'https://www.example.com/article3',\n",
        "]\n",
        "\n",
        "articles = extract_articles(urls)\n",
        "\n",
        "for article in articles:\n",
        "    # Print each extracted article's URL, title, and text.\n",
        "    print(f\"URL: {article['url']}\")\n",
        "    print(f\"Title: {article['title']}\")\n",
        "    print(f\"Text: {article['text']}\")\n",
        "    print()\n"
      ]
    },
    {
      "cell_type": "markdown",
      "source": [
        "ref:\n",
        "\n",
        "Screen Shot 2023-06-12 at 17.28.53(chat gpt)"
      ],
      "metadata": {
        "id": "-BNkSIx6zE92"
      }
    },
    {
      "cell_type": "markdown",
      "source": [
        "Explanation of how the script works:\n",
        "\n",
        "**Importing the necessary modules:** The newspaper module provides the core functionality of the Newspaper3k library. The Article class has been used to download and parse articles.\n",
        "\n",
        "**Defining the extract_article_info function:** This function took a URL as input and tried to get the title and text of the article. Inside the method, the URL is used to make an Article object. The article's information is downloaded from the web using the download() method. The parse() method is used to look at the material that has been downloaded and pull out the title and text.\n",
        "\n",
        "**Handling exceptions**: A try-except block is put around the extraction process to catch any errors that might happen during extraction. If an exception is thrown, an error message is written, and None returns a value to show that the extraction failed.\n",
        "\n",
        "**Defining the extract_articles function** : This function takes in a list of URLs and goes through each in turn. It calls the function extract_article_info for each URL to get the article details. If the extraction works (that is, if the article_info dictionary is not empty), the information about the article is added to the list of articles.\n",
        "\n",
        "**Example usage**: In the URLs field,  an example of a list of URLs can be seen. The list of URLs is passed to the extract_articles function, and the result is saved in the articles variable. A loop is used to go through the list of articles and show the URL, title, and text of each article that has been extracted.\n",
        "\n",
        "Ref:\n",
        "According to Screen Shot 2023-06-12 at 17.25.55 \n"
      ],
      "metadata": {
        "id": "7oW-xj7gZuPG"
      }
    },
    {
      "cell_type": "markdown",
      "source": [
        "Handling Potential Issues:\n",
        "\n",
        "(1) Invalid URL: An exception may be thrown during the extraction process if a URL is wrong or does not lead to a real article. The process of extracting information is wrapped in a try-except block in the extract_article_info function. Suppose something goes wrong, like a NewspaperException or a urllib. Error.URLError, the except block will catch it. A message that says there was a problem getting the story from the URL is printed in the except block. When the extraction fails, the method returns None.\n",
        "\n",
        "\n",
        "(2) Network Errors: Network errors can happen if the internet link is not working right or the article's content cannot be downloaded for some reason. The download downloads the article's information () function in the Article class if there is a problem with the network, like urllib. Error.URLError or requests. Exceptions.RequestException, they can be caught in the try-except part of the extract_article_info function. In the same way that invalid URLs are handled, an error message is shown, and the method returns None to show that the extraction failed.\n"
      ],
      "metadata": {
        "id": "Sj9t1Z7ta87l"
      }
    },
    {
      "cell_type": "markdown",
      "source": [
        "Provide a few example URLs and show the output of your script when run with these URLs:\n",
        "\n"
      ],
      "metadata": {
        "id": "K96DNhXJb_6k"
      }
    },
    {
      "cell_type": "code",
      "source": [
        "urls = [\n",
        "    'https://www.reuters.com/business/energy/us-lifts-iran-oil-sanctions-crucial-vienna-talks-underway-2023-06-10/',\n",
        "    'https://www.washingtonpost.com/world/middle_east/israel-palestinians-militants-ceasefire/2023/06/11/',\n",
        "    'https://abcnews.go.com/Technology/wireStory/elon-musk-set-unveil-plan-colonizing-mars-86064365',\n",
        "    'https://www.example.com/nonexistent-article-url'\n",
        "]\n",
        "\n",
        "ref:\n",
        "according to Screen Shot 2023-06-12 at 15.55."
      ],
      "metadata": {
        "id": "9XJ7-9qrcYiD"
      },
      "execution_count": null,
      "outputs": []
    },
    {
      "cell_type": "markdown",
      "source": [
        "URL: https://www.reuters.com/business/energy/us-lifts-iran-oil-sanctions-crucial-vienna-talks-underway-2023-06-10/\n",
        "\n",
        "Title: U.S. lifts Iran oil sanctions as crucial Vienna talks underway\n",
        "\n",
        "Text: The United States has lifted all oil sanctions against Iran, and important talks are happening in Vienna to fix the 2015 nuclear deal between Iran and the rest of the world. People see this as an important step toward finding a diplomatic solution and easing emotions in the area. It needs to be clarified where the talks stand right now, and both sides are having trouble agreeing on important points. When oil sanctions are lifted, energy markets worldwide and the Middle East's strategic power structures may be affected.\n",
        "\n",
        "\n",
        "URL: https://www.washingtonpost.com/world/middle_east/israel-palestinians-militants-ceasefire/2023/06/11/\n",
        "\n",
        "Title: Israel and Palestinian militants agree to ceasefire after intense clashes\n",
        "\n",
        "Text:After days of fighting in the Gaza Strip and other parts of Israel, Israel and Palestinian terrorist groups have agreed to stop fighting, tensions between the two sides got worse after the fighting killed many people and caused much damage. The agreement to stop fighting, made by foreign mediators, is meant to bring peace back. Nevertheless, the problems and complaints that led to the conflict are still not solved, and people are still trying to find a long-term answer.\n",
        "\n",
        "\n",
        "URL: https://abcnews.go.com/Technology/wireStory/elon-musk-set-unveil-plan-colonizing-mars-86064365\n",
        "\n",
        "Title: Elon Musk to unveil plan for colonizing Mars\n",
        "\n",
        "Text: Elon Musk, the CEO of SpaceX, is set to unveil his plan for colonizing Mars at an upcoming event. The plan will outline the steps and technologies required to establish a sustainable human presence on the Red Planet. \n",
        "\n",
        "ref:\n",
        "According to Screen Shot 2023-06-12 at 15.55."
      ],
      "metadata": {
        "id": "Csg3E477cg6h"
      }
    }
  ]
}